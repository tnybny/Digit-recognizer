{
 "cells": [
  {
   "cell_type": "code",
   "execution_count": 1,
   "metadata": {
    "collapsed": true
   },
   "outputs": [],
   "source": [
    "# Author: jay1204\n",
    "# Date: 4/17/2016\n",
    "# Random Forest: the randomization is imported for the sampling of the records like bagging \n",
    "# and the sampling of the features when building each tree model"
   ]
  },
  {
   "cell_type": "code",
   "execution_count": 2,
   "metadata": {
    "collapsed": true
   },
   "outputs": [],
   "source": [
    "import numpy as np\n",
    "import pandas as pd\n",
    "from sklearn.ensemble import RandomForestClassifier\n",
    "from sklearn.cross_validation import cross_val_score"
   ]
  },
  {
   "cell_type": "code",
   "execution_count": 3,
   "metadata": {
    "collapsed": true
   },
   "outputs": [],
   "source": [
    "train = np.genfromtxt('train.csv',delimiter = \",\",skip_header=1,dtype = \"int32\")\n",
    "test = np.genfromtxt('test.csv',delimiter = \",\",skip_header=1,dtype = \"int32\")"
   ]
  },
  {
   "cell_type": "code",
   "execution_count": 4,
   "metadata": {
    "collapsed": true
   },
   "outputs": [],
   "source": [
    "# split the data into labels and image data\n",
    "trainLabels = train[:,0]\n",
    "trainData = train[:,1:]"
   ]
  },
  {
   "cell_type": "code",
   "execution_count": 5,
   "metadata": {
    "collapsed": false
   },
   "outputs": [],
   "source": [
    "# split the training data for training and validation\n",
    "#splitIndex = len()\n",
    "splitIndex = int(trainData.shape[0] * 0.9)\n",
    "trainSet = trainData[:splitIndex, :]\n",
    "trainLabel = trainLabels[:splitIndex]\n",
    "validationSet = trainData[splitIndex:, :]\n",
    "validationLabel = trainLabels[splitIndex:]"
   ]
  },
  {
   "cell_type": "code",
   "execution_count": 9,
   "metadata": {
    "collapsed": false
   },
   "outputs": [
    {
     "name": "stdout",
     "output_type": "stream",
     "text": [
      "0.941789206629\n",
      "0.940007366744\n",
      "0.937854255161\n",
      "0.940577338353\n",
      "0.942734376707\n",
      "0.945113559342\n",
      "0.943216037002\n",
      "0.944045020458\n",
      "0.945710688224\n",
      "0.944170567536\n"
     ]
    }
   ],
   "source": [
    "# firstly, choose the random forest model to build and set the parameters\n",
    "## the min_samples_leaf parameters can help avoid overfitting\n",
    "maxValue = 0\n",
    "#threshold = 0.005\n",
    "maxIndex = 0\n",
    "# try different number of trees to build and choose the best\n",
    "for i in range(100,150,5):\n",
    "    clf = RandomForestClassifier(n_estimators = i, max_features = 'log2', min_samples_leaf = 1)\n",
    "    # cv means i-fold cross-validation\n",
    "    sampleIndices = np.random.choice(trainData.shape[0], int(trainData.shape[0]*0.2), replace=False)\n",
    "    trainSet = trainData[sampleIndices,:]\n",
    "    trainLabelSet = trainLabels[sampleIndices]\n",
    "    scores = cross_val_score(clf, trainSet, trainLabelSet, cv = 10)\n",
    "    #scores = cross_val_score(clf, trainData, trainLabels, cv = 10)\n",
    "    scores_mean = scores.mean()\n",
    "    #if threshold > abs(scores_mean - maxValue):\n",
    "     #   if(scores_mean > maxValue):\n",
    "    #      maxIndex = i\n",
    "       #     maxValue = scores_mean\n",
    "        #break\n",
    "    if(scores_mean > maxValue):\n",
    "        maxValue = scores_mean\n",
    "        maxIndex = i  \n",
    "    print scores_mean"
   ]
  },
  {
   "cell_type": "code",
   "execution_count": 24,
   "metadata": {
    "collapsed": false
   },
   "outputs": [
    {
     "name": "stdout",
     "output_type": "stream",
     "text": [
      "0.952643205105 29\n"
     ]
    }
   ],
   "source": [
    "print maxValue, maxIndex"
   ]
  },
  {
   "cell_type": "code",
   "execution_count": 21,
   "metadata": {
    "collapsed": false
   },
   "outputs": [],
   "source": [
    "clf = RandomForestClassifier(n_estimators = 230, max_features = 'log2', min_samples_leaf = 1)\n",
    "clf = clf.fit(trainData, trainLabels)"
   ]
  },
  {
   "cell_type": "code",
   "execution_count": 22,
   "metadata": {
    "collapsed": true
   },
   "outputs": [],
   "source": [
    "testLabels = clf.predict(test)"
   ]
  },
  {
   "cell_type": "code",
   "execution_count": 23,
   "metadata": {
    "collapsed": false
   },
   "outputs": [
    {
     "name": "stdout",
     "output_type": "stream",
     "text": [
      "[2 0 9 ..., 3 9 2]\n"
     ]
    }
   ],
   "source": [
    "print testLabels"
   ]
  },
  {
   "cell_type": "code",
   "execution_count": 24,
   "metadata": {
    "collapsed": true
   },
   "outputs": [],
   "source": [
    "np.savetxt('submission_random_forest_jay1204_trees_230.csv', np.c_[range(1,len(test)+1),testLabels], delimiter=',', header = 'ImageId,Label', comments = '', fmt='%d')"
   ]
  },
  {
   "cell_type": "code",
   "execution_count": 14,
   "metadata": {
    "collapsed": true
   },
   "outputs": [],
   "source": [
    "# build a smaller tree\n",
    "clf = RandomForestClassifier(n_estimators = 230, max_features = 'log2', min_samples_leaf = 1)\n",
    "scores = cross_val_score(clf, trainData, trainLabels, cv = 10)\n",
    "scores_mean = scores.mean()"
   ]
  },
  {
   "cell_type": "code",
   "execution_count": 15,
   "metadata": {
    "collapsed": false
   },
   "outputs": [
    {
     "name": "stdout",
     "output_type": "stream",
     "text": [
      "0.964428353902\n"
     ]
    }
   ],
   "source": [
    "print scores_mean"
   ]
  },
  {
   "cell_type": "code",
   "execution_count": 45,
   "metadata": {
    "collapsed": false
   },
   "outputs": [],
   "source": [
    "\n",
    "sampleIndices = np.random.choice(trainData.shape[0], int(trainData.shape[0]*0.1), replace=False)\n",
    "trainSet = trainData[sampleIndices,:]"
   ]
  },
  {
   "cell_type": "code",
   "execution_count": 49,
   "metadata": {
    "collapsed": false
   },
   "outputs": [
    {
     "name": "stdout",
     "output_type": "stream",
     "text": [
      "(4200, 784) 42000 [ 4030    51  4496 ..., 18633 29100 21171]\n"
     ]
    }
   ],
   "source": [
    "print trainSet.shape, trainData.shape[0], sampleIndices"
   ]
  },
  {
   "cell_type": "code",
   "execution_count": null,
   "metadata": {
    "collapsed": true
   },
   "outputs": [],
   "source": []
  }
 ],
 "metadata": {
  "kernelspec": {
   "display_name": "Python 2",
   "language": "python",
   "name": "python2"
  },
  "language_info": {
   "codemirror_mode": {
    "name": "ipython",
    "version": 2
   },
   "file_extension": ".py",
   "mimetype": "text/x-python",
   "name": "python",
   "nbconvert_exporter": "python",
   "pygments_lexer": "ipython2",
   "version": "2.7.6"
  }
 },
 "nbformat": 4,
 "nbformat_minor": 0
}
