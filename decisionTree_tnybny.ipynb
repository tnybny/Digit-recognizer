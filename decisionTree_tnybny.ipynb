{
 "cells": [
  {
   "cell_type": "code",
   "execution_count": 10,
   "metadata": {
    "collapsed": false
   },
   "outputs": [],
   "source": [
    "%matplotlib inline\n",
    "import numpy as np\n",
    "import pandas as pd\n",
    "import matplotlib.pyplot as plt\n",
    "from sklearn import tree\n",
    "\n",
    "my_data = np.genfromtxt('train.csv', delimiter = ',', skip_header = 1, dtype = 'int32')\n",
    "labels = my_data[:, 0]\n",
    "digits = my_data[:, 1:]\n",
    "my_data = None"
   ]
  },
  {
   "cell_type": "code",
   "execution_count": 14,
   "metadata": {
    "collapsed": false
   },
   "outputs": [
    {
     "name": "stdout",
     "output_type": "stream",
     "text": [
      "col_0     0     1    2     3    4    5     6     7    8    9\n",
      "row_0                                                       \n",
      "0      1073     2   19     8    7   22    17     9   26   12\n",
      "1         2  1281   13    12    8    5     7     7   13    4\n",
      "2        14    21  953    37   18   10    22    25   49    8\n",
      "3         8    19   36  1021   12   58     4    26   41   33\n",
      "4         9    11   17     2  973    8    15    15   22   68\n",
      "5        16    15   11    55   15  847    33    10   54   20\n",
      "6        22     7   15    10   28   33  1016     2   29    5\n",
      "7         3     3   26    16   14   16     2  1124   16   48\n",
      "8        11    44   27    50   28   39    25    22  895   33\n",
      "9         8     3   24    28   50   38     5    48   24  985\n"
     ]
    }
   ],
   "source": [
    "train = digits[0:30000, :]\n",
    "valid = digits[30000:, :]\n",
    "trainlab = labels[0:30000]\n",
    "validlab = labels[30000:]\n",
    "clf = tree.DecisionTreeClassifier()\n",
    "clf = clf.fit(train, trainlab)\n",
    "trainpred = clf.predict(train)\n",
    "validpred = clf.predict(valid)\n",
    "print pd.crosstab(validlab, validpred)"
   ]
  },
  {
   "cell_type": "code",
   "execution_count": 15,
   "metadata": {
    "collapsed": false
   },
   "outputs": [
    {
     "name": "stdout",
     "output_type": "stream",
     "text": [
      "100.0\n",
      "84.7333333333\n"
     ]
    }
   ],
   "source": [
    "print sum(trainlab == trainpred) / float(trainlab.size) * 100\n",
    "print sum(validlab == validpred) / float(validlab.size) * 100"
   ]
  },
  {
   "cell_type": "code",
   "execution_count": null,
   "metadata": {
    "collapsed": true
   },
   "outputs": [],
   "source": []
  }
 ],
 "metadata": {
  "kernelspec": {
   "display_name": "Python 2",
   "language": "python",
   "name": "python2"
  },
  "language_info": {
   "codemirror_mode": {
    "name": "ipython",
    "version": 2
   },
   "file_extension": ".py",
   "mimetype": "text/x-python",
   "name": "python",
   "nbconvert_exporter": "python",
   "pygments_lexer": "ipython2",
   "version": "2.7.11"
  }
 },
 "nbformat": 4,
 "nbformat_minor": 0
}
